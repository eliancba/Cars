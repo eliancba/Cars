{
 "cells": [
  {
   "cell_type": "markdown",
   "metadata": {},
   "source": [
    "## Proceso ETL"
   ]
  },
  {
   "cell_type": "code",
   "execution_count": 1,
   "metadata": {},
   "outputs": [],
   "source": [
    "import pandas as pd\n",
    "import numpy as np\n"
   ]
  },
  {
   "cell_type": "code",
   "execution_count": 2,
   "metadata": {},
   "outputs": [],
   "source": [
    "data = pd.read_csv(r\"C:\\Users\\Admin\\Documents\\Cars Sales\\Archivo csv\\Auto Sales data.csv\", \n",
    "    parse_dates=['ORDERDATE'], \n",
    "    dayfirst=True)"
   ]
  },
  {
   "cell_type": "code",
   "execution_count": 3,
   "metadata": {},
   "outputs": [],
   "source": [
    "#Creacion de la nueva columna DAYS_SINCE_LASTORDER basado en la diferencia de tiempo\n",
    "#Primero elimino la columna existente\n",
    "\n",
    "data = data.drop('DAYS_SINCE_LASTORDER', axis=1)\n",
    "\n",
    "#Basado en la diferencia de tiempo creo la nueva columna DAYS_SINCE_LASTORDER\n",
    "\n",
    "from datetime import datetime\n",
    "#Especifico la fecha\n",
    "temp_date = datetime(2020,6,1)\n",
    "data['DAYS_SINCE_LASTORDER'] = (temp_date - data['ORDERDATE']).dt.days"
   ]
  },
  {
   "cell_type": "code",
   "execution_count": 4,
   "metadata": {},
   "outputs": [
    {
     "data": {
      "text/html": [
       "<div>\n",
       "<style scoped>\n",
       "    .dataframe tbody tr th:only-of-type {\n",
       "        vertical-align: middle;\n",
       "    }\n",
       "\n",
       "    .dataframe tbody tr th {\n",
       "        vertical-align: top;\n",
       "    }\n",
       "\n",
       "    .dataframe thead th {\n",
       "        text-align: right;\n",
       "    }\n",
       "</style>\n",
       "<table border=\"1\" class=\"dataframe\">\n",
       "  <thead>\n",
       "    <tr style=\"text-align: right;\">\n",
       "      <th></th>\n",
       "      <th>ORDERNUMBER</th>\n",
       "      <th>QUANTITYORDERED</th>\n",
       "      <th>PRICEEACH</th>\n",
       "      <th>ORDERLINENUMBER</th>\n",
       "      <th>SALES</th>\n",
       "      <th>ORDERDATE</th>\n",
       "      <th>STATUS</th>\n",
       "      <th>PRODUCTLINE</th>\n",
       "      <th>MSRP</th>\n",
       "      <th>PRODUCTCODE</th>\n",
       "      <th>CUSTOMERNAME</th>\n",
       "      <th>PHONE</th>\n",
       "      <th>ADDRESSLINE1</th>\n",
       "      <th>CITY</th>\n",
       "      <th>POSTALCODE</th>\n",
       "      <th>COUNTRY</th>\n",
       "      <th>CONTACTLASTNAME</th>\n",
       "      <th>CONTACTFIRSTNAME</th>\n",
       "      <th>DEALSIZE</th>\n",
       "      <th>DAYS_SINCE_LASTORDER</th>\n",
       "    </tr>\n",
       "  </thead>\n",
       "  <tbody>\n",
       "    <tr>\n",
       "      <th>0</th>\n",
       "      <td>10107</td>\n",
       "      <td>30</td>\n",
       "      <td>95.70</td>\n",
       "      <td>2</td>\n",
       "      <td>2871.00</td>\n",
       "      <td>2018-02-24</td>\n",
       "      <td>Shipped</td>\n",
       "      <td>Motorcycles</td>\n",
       "      <td>95</td>\n",
       "      <td>S10_1678</td>\n",
       "      <td>Land of Toys Inc.</td>\n",
       "      <td>2125557818</td>\n",
       "      <td>897 Long Airport Avenue</td>\n",
       "      <td>NYC</td>\n",
       "      <td>10022</td>\n",
       "      <td>USA</td>\n",
       "      <td>Yu</td>\n",
       "      <td>Kwai</td>\n",
       "      <td>Small</td>\n",
       "      <td>828</td>\n",
       "    </tr>\n",
       "    <tr>\n",
       "      <th>1</th>\n",
       "      <td>10121</td>\n",
       "      <td>34</td>\n",
       "      <td>81.35</td>\n",
       "      <td>5</td>\n",
       "      <td>2765.90</td>\n",
       "      <td>2018-05-07</td>\n",
       "      <td>Shipped</td>\n",
       "      <td>Motorcycles</td>\n",
       "      <td>95</td>\n",
       "      <td>S10_1678</td>\n",
       "      <td>Reims Collectables</td>\n",
       "      <td>26.47.1555</td>\n",
       "      <td>59 rue de l'Abbaye</td>\n",
       "      <td>Reims</td>\n",
       "      <td>51100</td>\n",
       "      <td>France</td>\n",
       "      <td>Henriot</td>\n",
       "      <td>Paul</td>\n",
       "      <td>Small</td>\n",
       "      <td>756</td>\n",
       "    </tr>\n",
       "    <tr>\n",
       "      <th>2</th>\n",
       "      <td>10134</td>\n",
       "      <td>41</td>\n",
       "      <td>94.74</td>\n",
       "      <td>2</td>\n",
       "      <td>3884.34</td>\n",
       "      <td>2018-07-01</td>\n",
       "      <td>Shipped</td>\n",
       "      <td>Motorcycles</td>\n",
       "      <td>95</td>\n",
       "      <td>S10_1678</td>\n",
       "      <td>Lyon Souveniers</td>\n",
       "      <td>+33 1 46 62 7555</td>\n",
       "      <td>27 rue du Colonel Pierre Avia</td>\n",
       "      <td>Paris</td>\n",
       "      <td>75508</td>\n",
       "      <td>France</td>\n",
       "      <td>Da Cunha</td>\n",
       "      <td>Daniel</td>\n",
       "      <td>Medium</td>\n",
       "      <td>701</td>\n",
       "    </tr>\n",
       "    <tr>\n",
       "      <th>3</th>\n",
       "      <td>10145</td>\n",
       "      <td>45</td>\n",
       "      <td>83.26</td>\n",
       "      <td>6</td>\n",
       "      <td>3746.70</td>\n",
       "      <td>2018-08-25</td>\n",
       "      <td>Shipped</td>\n",
       "      <td>Motorcycles</td>\n",
       "      <td>95</td>\n",
       "      <td>S10_1678</td>\n",
       "      <td>Toys4GrownUps.com</td>\n",
       "      <td>6265557265</td>\n",
       "      <td>78934 Hillside Dr.</td>\n",
       "      <td>Pasadena</td>\n",
       "      <td>90003</td>\n",
       "      <td>USA</td>\n",
       "      <td>Young</td>\n",
       "      <td>Julie</td>\n",
       "      <td>Medium</td>\n",
       "      <td>646</td>\n",
       "    </tr>\n",
       "    <tr>\n",
       "      <th>4</th>\n",
       "      <td>10168</td>\n",
       "      <td>36</td>\n",
       "      <td>96.66</td>\n",
       "      <td>1</td>\n",
       "      <td>3479.76</td>\n",
       "      <td>2018-10-28</td>\n",
       "      <td>Shipped</td>\n",
       "      <td>Motorcycles</td>\n",
       "      <td>95</td>\n",
       "      <td>S10_1678</td>\n",
       "      <td>Technics Stores Inc.</td>\n",
       "      <td>6505556809</td>\n",
       "      <td>9408 Furth Circle</td>\n",
       "      <td>Burlingame</td>\n",
       "      <td>94217</td>\n",
       "      <td>USA</td>\n",
       "      <td>Hirano</td>\n",
       "      <td>Juri</td>\n",
       "      <td>Medium</td>\n",
       "      <td>582</td>\n",
       "    </tr>\n",
       "  </tbody>\n",
       "</table>\n",
       "</div>"
      ],
      "text/plain": [
       "   ORDERNUMBER  QUANTITYORDERED  PRICEEACH  ORDERLINENUMBER    SALES  \\\n",
       "0        10107               30      95.70                2  2871.00   \n",
       "1        10121               34      81.35                5  2765.90   \n",
       "2        10134               41      94.74                2  3884.34   \n",
       "3        10145               45      83.26                6  3746.70   \n",
       "4        10168               36      96.66                1  3479.76   \n",
       "\n",
       "   ORDERDATE   STATUS  PRODUCTLINE  MSRP PRODUCTCODE          CUSTOMERNAME  \\\n",
       "0 2018-02-24  Shipped  Motorcycles    95    S10_1678     Land of Toys Inc.   \n",
       "1 2018-05-07  Shipped  Motorcycles    95    S10_1678    Reims Collectables   \n",
       "2 2018-07-01  Shipped  Motorcycles    95    S10_1678       Lyon Souveniers   \n",
       "3 2018-08-25  Shipped  Motorcycles    95    S10_1678     Toys4GrownUps.com   \n",
       "4 2018-10-28  Shipped  Motorcycles    95    S10_1678  Technics Stores Inc.   \n",
       "\n",
       "              PHONE                   ADDRESSLINE1        CITY POSTALCODE  \\\n",
       "0        2125557818        897 Long Airport Avenue         NYC      10022   \n",
       "1        26.47.1555             59 rue de l'Abbaye       Reims      51100   \n",
       "2  +33 1 46 62 7555  27 rue du Colonel Pierre Avia       Paris      75508   \n",
       "3        6265557265             78934 Hillside Dr.    Pasadena      90003   \n",
       "4        6505556809              9408 Furth Circle  Burlingame      94217   \n",
       "\n",
       "  COUNTRY CONTACTLASTNAME CONTACTFIRSTNAME DEALSIZE  DAYS_SINCE_LASTORDER  \n",
       "0     USA              Yu             Kwai    Small                   828  \n",
       "1  France         Henriot             Paul    Small                   756  \n",
       "2  France        Da Cunha           Daniel   Medium                   701  \n",
       "3     USA           Young            Julie   Medium                   646  \n",
       "4     USA          Hirano             Juri   Medium                   582  "
      ]
     },
     "execution_count": 4,
     "metadata": {},
     "output_type": "execute_result"
    }
   ],
   "source": [
    "data.head()"
   ]
  },
  {
   "cell_type": "markdown",
   "metadata": {},
   "source": [
    "# Separacion de archivos\n",
    "\n",
    "## Tabla pedidos (Orders)\n",
    "\n",
    "## Tabla detalles orden (Orders_details)\n",
    "\n",
    "## Tabla productos (Products)\n",
    "\n",
    "## Tabla Clientes (Clients)\n",
    "\n",
    "## Tabla Tamaño del trato (deal_size)"
   ]
  },
  {
   "cell_type": "code",
   "execution_count": 11,
   "metadata": {},
   "outputs": [
    {
     "data": {
      "text/plain": [
       "ORDERNUMBER             0\n",
       "QUANTITYORDERED         0\n",
       "PRICEEACH               0\n",
       "ORDERLINENUMBER         0\n",
       "SALES                   0\n",
       "ORDERDATE               0\n",
       "STATUS                  0\n",
       "PRODUCTLINE             0\n",
       "MSRP                    0\n",
       "PRODUCTCODE             0\n",
       "CUSTOMERNAME            0\n",
       "PHONE                   0\n",
       "ADDRESSLINE1            0\n",
       "CITY                    0\n",
       "POSTALCODE              0\n",
       "COUNTRY                 0\n",
       "CONTACTLASTNAME         0\n",
       "CONTACTFIRSTNAME        0\n",
       "DEALSIZE                0\n",
       "DAYS_SINCE_LASTORDER    0\n",
       "dtype: int64"
      ]
     },
     "execution_count": 11,
     "metadata": {},
     "output_type": "execute_result"
    }
   ],
   "source": [
    "#VERIFICO PRIMERO QUE NO HAYA VALORES NULOS NI DUPLICADOS \n",
    "\n",
    "data.isnull().sum()\n",
    "\n"
   ]
  },
  {
   "cell_type": "code",
   "execution_count": 13,
   "metadata": {},
   "outputs": [
    {
     "data": {
      "text/plain": [
       "np.int64(0)"
      ]
     },
     "execution_count": 13,
     "metadata": {},
     "output_type": "execute_result"
    }
   ],
   "source": [
    "data.duplicated().sum()"
   ]
  },
  {
   "cell_type": "code",
   "execution_count": 14,
   "metadata": {},
   "outputs": [],
   "source": [
    "Orders = data[['ORDERNUMBER','ORDERDATE','STATUS']]\n",
    "\n",
    "Order_Details = data[['ORDERNUMBER','ORDERLINENUMBER','PRODUCTCODE','QUANTITYORDERED','PRICEEACH','SALES']]\n",
    "\n",
    "Products = data[['PRODUCTCODE','PRODUCTLINE','MSRP']]\n",
    "\n",
    "Customers = data[['CUSTOMERNAME','PHONE','ADDRESSLINE1','CITY','POSTALCODE','COUNTRY','CONTACTLASTNAME']]\n",
    "\n",
    "Deal_Size = data[['DEALSIZE']]"
   ]
  },
  {
   "cell_type": "code",
   "execution_count": 16,
   "metadata": {},
   "outputs": [
    {
     "name": "stdout",
     "output_type": "stream",
     "text": [
      "<class 'pandas.core.frame.DataFrame'>\n",
      "RangeIndex: 2747 entries, 0 to 2746\n",
      "Data columns (total 3 columns):\n",
      " #   Column       Non-Null Count  Dtype         \n",
      "---  ------       --------------  -----         \n",
      " 0   ORDERNUMBER  2747 non-null   int64         \n",
      " 1   ORDERDATE    2747 non-null   datetime64[ns]\n",
      " 2   STATUS       2747 non-null   object        \n",
      "dtypes: datetime64[ns](1), int64(1), object(1)\n",
      "memory usage: 64.5+ KB\n"
     ]
    }
   ],
   "source": [
    "Orders.info()"
   ]
  },
  {
   "cell_type": "code",
   "execution_count": 17,
   "metadata": {},
   "outputs": [
    {
     "name": "stdout",
     "output_type": "stream",
     "text": [
      "<class 'pandas.core.frame.DataFrame'>\n",
      "RangeIndex: 2747 entries, 0 to 2746\n",
      "Data columns (total 6 columns):\n",
      " #   Column           Non-Null Count  Dtype  \n",
      "---  ------           --------------  -----  \n",
      " 0   ORDERNUMBER      2747 non-null   int64  \n",
      " 1   ORDERLINENUMBER  2747 non-null   int64  \n",
      " 2   PRODUCTCODE      2747 non-null   object \n",
      " 3   QUANTITYORDERED  2747 non-null   int64  \n",
      " 4   PRICEEACH        2747 non-null   float64\n",
      " 5   SALES            2747 non-null   float64\n",
      "dtypes: float64(2), int64(3), object(1)\n",
      "memory usage: 128.9+ KB\n"
     ]
    }
   ],
   "source": [
    "Order_Details.info()"
   ]
  },
  {
   "cell_type": "code",
   "execution_count": 18,
   "metadata": {},
   "outputs": [
    {
     "name": "stdout",
     "output_type": "stream",
     "text": [
      "<class 'pandas.core.frame.DataFrame'>\n",
      "RangeIndex: 2747 entries, 0 to 2746\n",
      "Data columns (total 3 columns):\n",
      " #   Column       Non-Null Count  Dtype \n",
      "---  ------       --------------  ----- \n",
      " 0   PRODUCTCODE  2747 non-null   object\n",
      " 1   PRODUCTLINE  2747 non-null   object\n",
      " 2   MSRP         2747 non-null   int64 \n",
      "dtypes: int64(1), object(2)\n",
      "memory usage: 64.5+ KB\n"
     ]
    }
   ],
   "source": [
    "Products.info()"
   ]
  },
  {
   "cell_type": "code",
   "execution_count": 19,
   "metadata": {},
   "outputs": [
    {
     "name": "stdout",
     "output_type": "stream",
     "text": [
      "<class 'pandas.core.frame.DataFrame'>\n",
      "RangeIndex: 2747 entries, 0 to 2746\n",
      "Data columns (total 7 columns):\n",
      " #   Column           Non-Null Count  Dtype \n",
      "---  ------           --------------  ----- \n",
      " 0   CUSTOMERNAME     2747 non-null   object\n",
      " 1   PHONE            2747 non-null   object\n",
      " 2   ADDRESSLINE1     2747 non-null   object\n",
      " 3   CITY             2747 non-null   object\n",
      " 4   POSTALCODE       2747 non-null   object\n",
      " 5   COUNTRY          2747 non-null   object\n",
      " 6   CONTACTLASTNAME  2747 non-null   object\n",
      "dtypes: object(7)\n",
      "memory usage: 150.4+ KB\n"
     ]
    }
   ],
   "source": [
    "Customers.info()"
   ]
  },
  {
   "cell_type": "code",
   "execution_count": 20,
   "metadata": {},
   "outputs": [
    {
     "name": "stdout",
     "output_type": "stream",
     "text": [
      "<class 'pandas.core.frame.DataFrame'>\n",
      "RangeIndex: 2747 entries, 0 to 2746\n",
      "Data columns (total 1 columns):\n",
      " #   Column    Non-Null Count  Dtype \n",
      "---  ------    --------------  ----- \n",
      " 0   DEALSIZE  2747 non-null   object\n",
      "dtypes: object(1)\n",
      "memory usage: 21.6+ KB\n"
     ]
    }
   ],
   "source": [
    "Deal_Size.info()"
   ]
  },
  {
   "cell_type": "code",
   "execution_count": 25,
   "metadata": {},
   "outputs": [
    {
     "name": "stderr",
     "output_type": "stream",
     "text": [
      "C:\\Users\\Admin\\AppData\\Local\\Temp\\ipykernel_11664\\2070477106.py:2: SettingWithCopyWarning: \n",
      "A value is trying to be set on a copy of a slice from a DataFrame.\n",
      "Try using .loc[row_indexer,col_indexer] = value instead\n",
      "\n",
      "See the caveats in the documentation: https://pandas.pydata.org/pandas-docs/stable/user_guide/indexing.html#returning-a-view-versus-a-copy\n",
      "  Orders['ORDER_ID'] = range(1, len(Orders) + 1)\n"
     ]
    },
    {
     "data": {
      "text/html": [
       "<div>\n",
       "<style scoped>\n",
       "    .dataframe tbody tr th:only-of-type {\n",
       "        vertical-align: middle;\n",
       "    }\n",
       "\n",
       "    .dataframe tbody tr th {\n",
       "        vertical-align: top;\n",
       "    }\n",
       "\n",
       "    .dataframe thead th {\n",
       "        text-align: right;\n",
       "    }\n",
       "</style>\n",
       "<table border=\"1\" class=\"dataframe\">\n",
       "  <thead>\n",
       "    <tr style=\"text-align: right;\">\n",
       "      <th></th>\n",
       "      <th>ORDERNUMBER</th>\n",
       "      <th>ORDERDATE</th>\n",
       "      <th>STATUS</th>\n",
       "      <th>ORDER_ID</th>\n",
       "    </tr>\n",
       "  </thead>\n",
       "  <tbody>\n",
       "    <tr>\n",
       "      <th>0</th>\n",
       "      <td>10107</td>\n",
       "      <td>2018-02-24</td>\n",
       "      <td>Shipped</td>\n",
       "      <td>1</td>\n",
       "    </tr>\n",
       "    <tr>\n",
       "      <th>1</th>\n",
       "      <td>10121</td>\n",
       "      <td>2018-05-07</td>\n",
       "      <td>Shipped</td>\n",
       "      <td>2</td>\n",
       "    </tr>\n",
       "    <tr>\n",
       "      <th>2</th>\n",
       "      <td>10134</td>\n",
       "      <td>2018-07-01</td>\n",
       "      <td>Shipped</td>\n",
       "      <td>3</td>\n",
       "    </tr>\n",
       "    <tr>\n",
       "      <th>3</th>\n",
       "      <td>10145</td>\n",
       "      <td>2018-08-25</td>\n",
       "      <td>Shipped</td>\n",
       "      <td>4</td>\n",
       "    </tr>\n",
       "    <tr>\n",
       "      <th>4</th>\n",
       "      <td>10168</td>\n",
       "      <td>2018-10-28</td>\n",
       "      <td>Shipped</td>\n",
       "      <td>5</td>\n",
       "    </tr>\n",
       "  </tbody>\n",
       "</table>\n",
       "</div>"
      ],
      "text/plain": [
       "   ORDERNUMBER  ORDERDATE   STATUS  ORDER_ID\n",
       "0        10107 2018-02-24  Shipped         1\n",
       "1        10121 2018-05-07  Shipped         2\n",
       "2        10134 2018-07-01  Shipped         3\n",
       "3        10145 2018-08-25  Shipped         4\n",
       "4        10168 2018-10-28  Shipped         5"
      ]
     },
     "execution_count": 25,
     "metadata": {},
     "output_type": "execute_result"
    }
   ],
   "source": [
    "#Creamos index para primarykey valores incrementales desde 1\n",
    "Orders['ORDER_ID'] = range(1, len(Orders) + 1)\n",
    "\n",
    "Orders.head()"
   ]
  },
  {
   "cell_type": "code",
   "execution_count": 27,
   "metadata": {},
   "outputs": [
    {
     "name": "stderr",
     "output_type": "stream",
     "text": [
      "C:\\Users\\Admin\\AppData\\Local\\Temp\\ipykernel_11664\\1817623533.py:2: SettingWithCopyWarning: \n",
      "A value is trying to be set on a copy of a slice from a DataFrame.\n",
      "Try using .loc[row_indexer,col_indexer] = value instead\n",
      "\n",
      "See the caveats in the documentation: https://pandas.pydata.org/pandas-docs/stable/user_guide/indexing.html#returning-a-view-versus-a-copy\n",
      "  Order_Details['DETAILS_ID'] = range(1, len(Orders) + 1)\n"
     ]
    },
    {
     "data": {
      "text/html": [
       "<div>\n",
       "<style scoped>\n",
       "    .dataframe tbody tr th:only-of-type {\n",
       "        vertical-align: middle;\n",
       "    }\n",
       "\n",
       "    .dataframe tbody tr th {\n",
       "        vertical-align: top;\n",
       "    }\n",
       "\n",
       "    .dataframe thead th {\n",
       "        text-align: right;\n",
       "    }\n",
       "</style>\n",
       "<table border=\"1\" class=\"dataframe\">\n",
       "  <thead>\n",
       "    <tr style=\"text-align: right;\">\n",
       "      <th></th>\n",
       "      <th>ORDERNUMBER</th>\n",
       "      <th>ORDERLINENUMBER</th>\n",
       "      <th>PRODUCTCODE</th>\n",
       "      <th>QUANTITYORDERED</th>\n",
       "      <th>PRICEEACH</th>\n",
       "      <th>SALES</th>\n",
       "      <th>DETAILS_ID</th>\n",
       "    </tr>\n",
       "  </thead>\n",
       "  <tbody>\n",
       "    <tr>\n",
       "      <th>0</th>\n",
       "      <td>10107</td>\n",
       "      <td>2</td>\n",
       "      <td>S10_1678</td>\n",
       "      <td>30</td>\n",
       "      <td>95.70</td>\n",
       "      <td>2871.00</td>\n",
       "      <td>1</td>\n",
       "    </tr>\n",
       "    <tr>\n",
       "      <th>1</th>\n",
       "      <td>10121</td>\n",
       "      <td>5</td>\n",
       "      <td>S10_1678</td>\n",
       "      <td>34</td>\n",
       "      <td>81.35</td>\n",
       "      <td>2765.90</td>\n",
       "      <td>2</td>\n",
       "    </tr>\n",
       "    <tr>\n",
       "      <th>2</th>\n",
       "      <td>10134</td>\n",
       "      <td>2</td>\n",
       "      <td>S10_1678</td>\n",
       "      <td>41</td>\n",
       "      <td>94.74</td>\n",
       "      <td>3884.34</td>\n",
       "      <td>3</td>\n",
       "    </tr>\n",
       "    <tr>\n",
       "      <th>3</th>\n",
       "      <td>10145</td>\n",
       "      <td>6</td>\n",
       "      <td>S10_1678</td>\n",
       "      <td>45</td>\n",
       "      <td>83.26</td>\n",
       "      <td>3746.70</td>\n",
       "      <td>4</td>\n",
       "    </tr>\n",
       "    <tr>\n",
       "      <th>4</th>\n",
       "      <td>10168</td>\n",
       "      <td>1</td>\n",
       "      <td>S10_1678</td>\n",
       "      <td>36</td>\n",
       "      <td>96.66</td>\n",
       "      <td>3479.76</td>\n",
       "      <td>5</td>\n",
       "    </tr>\n",
       "  </tbody>\n",
       "</table>\n",
       "</div>"
      ],
      "text/plain": [
       "   ORDERNUMBER  ORDERLINENUMBER PRODUCTCODE  QUANTITYORDERED  PRICEEACH  \\\n",
       "0        10107                2    S10_1678               30      95.70   \n",
       "1        10121                5    S10_1678               34      81.35   \n",
       "2        10134                2    S10_1678               41      94.74   \n",
       "3        10145                6    S10_1678               45      83.26   \n",
       "4        10168                1    S10_1678               36      96.66   \n",
       "\n",
       "     SALES  DETAILS_ID  \n",
       "0  2871.00           1  \n",
       "1  2765.90           2  \n",
       "2  3884.34           3  \n",
       "3  3746.70           4  \n",
       "4  3479.76           5  "
      ]
     },
     "execution_count": 27,
     "metadata": {},
     "output_type": "execute_result"
    }
   ],
   "source": [
    "#Creamos index para primarykey valores incrementales desde 1\n",
    "Order_Details['DETAILS_ID'] = range(1, len(Orders) + 1)\n",
    "\n",
    "Order_Details.head()"
   ]
  },
  {
   "cell_type": "code",
   "execution_count": 28,
   "metadata": {},
   "outputs": [],
   "source": [
    "#Guardamos los dataframe en su respectivo arhivo csv para la importar a SQL \n",
    "\n",
    "Orders.to_csv(r\"C:\\Users\\Admin\\Documents\\Cars Sales\\Archivo csv\\Orders.csv\", index=False)\n",
    "\n",
    "Order_Details.to_csv(r\"C:\\Users\\Admin\\Documents\\Cars Sales\\Archivo csv\\Orders_Details.csv\", index=False)\n",
    "\n",
    "Products.to_csv(r\"C:\\Users\\Admin\\Documents\\Cars Sales\\Archivo csv\\Products.csv\", index=False)\n",
    "\n",
    "Customers.to_csv(r\"C:\\Users\\Admin\\Documents\\Cars Sales\\Archivo csv\\Customers.csv\", index=False)\n",
    "\n",
    "Deal_Size.to_csv(r\"C:\\Users\\Admin\\Documents\\Cars Sales\\Archivo csv\\Deal_Size.csv\", index=False)"
   ]
  },
  {
   "cell_type": "code",
   "execution_count": 23,
   "metadata": {},
   "outputs": [
    {
     "name": "stdout",
     "output_type": "stream",
     "text": [
      "Filas duplicadas en la columna 'ORDERNUMBER':\n",
      "      ORDERNUMBER  QUANTITYORDERED  PRICEEACH  ORDERLINENUMBER    SALES  \\\n",
      "0           10107               30      95.70                2  2871.00   \n",
      "1           10121               34      81.35                5  2765.90   \n",
      "2           10134               41      94.74                2  3884.34   \n",
      "3           10145               45      83.26                6  3746.70   \n",
      "4           10168               36      96.66                1  3479.76   \n",
      "...           ...              ...        ...              ...      ...   \n",
      "2742        10350               20     112.22               15  2244.40   \n",
      "2743        10373               29     137.19                1  3978.51   \n",
      "2744        10386               43     125.99                4  5417.57   \n",
      "2745        10397               34      62.24                1  2116.16   \n",
      "2746        10414               47      65.52                9  3079.44   \n",
      "\n",
      "      ORDERDATE    STATUS  PRODUCTLINE  MSRP PRODUCTCODE  \\\n",
      "0    2018-02-24   Shipped  Motorcycles    95    S10_1678   \n",
      "1    2018-05-07   Shipped  Motorcycles    95    S10_1678   \n",
      "2    2018-07-01   Shipped  Motorcycles    95    S10_1678   \n",
      "3    2018-08-25   Shipped  Motorcycles    95    S10_1678   \n",
      "4    2018-10-28   Shipped  Motorcycles    95    S10_1678   \n",
      "...         ...       ...          ...   ...         ...   \n",
      "2742 2019-12-02   Shipped        Ships    54    S72_3212   \n",
      "2743 2020-01-31   Shipped        Ships    54    S72_3212   \n",
      "2744 2020-03-01  Resolved        Ships    54    S72_3212   \n",
      "2745 2020-03-28   Shipped        Ships    54    S72_3212   \n",
      "2746 2020-05-06   On Hold        Ships    54    S72_3212   \n",
      "\n",
      "                 CUSTOMERNAME             PHONE  \\\n",
      "0           Land of Toys Inc.        2125557818   \n",
      "1          Reims Collectables        26.47.1555   \n",
      "2             Lyon Souveniers  +33 1 46 62 7555   \n",
      "3           Toys4GrownUps.com        6265557265   \n",
      "4        Technics Stores Inc.        6505556809   \n",
      "...                       ...               ...   \n",
      "2742    Euro Shopping Channel    (91) 555 94 44   \n",
      "2743  Oulu Toy Supplies, Inc.        981-443655   \n",
      "2744    Euro Shopping Channel    (91) 555 94 44   \n",
      "2745             Alpha Cognac        61.77.6555   \n",
      "2746        Gifts4AllAges.com        6175559555   \n",
      "\n",
      "                       ADDRESSLINE1        CITY POSTALCODE  COUNTRY  \\\n",
      "0           897 Long Airport Avenue         NYC      10022      USA   \n",
      "1                59 rue de l'Abbaye       Reims      51100   France   \n",
      "2     27 rue du Colonel Pierre Avia       Paris      75508   France   \n",
      "3                78934 Hillside Dr.    Pasadena      90003      USA   \n",
      "4                 9408 Furth Circle  Burlingame      94217      USA   \n",
      "...                             ...         ...        ...      ...   \n",
      "2742             C/ Moralzarzal, 86      Madrid      28034    Spain   \n",
      "2743                    Torikatu 38        Oulu      90110  Finland   \n",
      "2744             C/ Moralzarzal, 86      Madrid      28034    Spain   \n",
      "2745          1 rue Alsace-Lorraine    Toulouse      31000   France   \n",
      "2746             8616 Spinnaker Dr.      Boston      51003      USA   \n",
      "\n",
      "     CONTACTLASTNAME CONTACTFIRSTNAME DEALSIZE  DAYS_SINCE_LASTORDER  \n",
      "0                 Yu             Kwai    Small                   828  \n",
      "1            Henriot             Paul    Small                   756  \n",
      "2           Da Cunha           Daniel   Medium                   701  \n",
      "3              Young            Julie   Medium                   646  \n",
      "4             Hirano             Juri   Medium                   582  \n",
      "...              ...              ...      ...                   ...  \n",
      "2742          Freyre            Diego    Small                   182  \n",
      "2743       Koskitalo           Pirkko   Medium                   122  \n",
      "2744          Freyre            Diego   Medium                    92  \n",
      "2745          Roulet          Annette    Small                    65  \n",
      "2746         Yoshido             Juri   Medium                    26  \n",
      "\n",
      "[2731 rows x 20 columns]\n"
     ]
    }
   ],
   "source": [
    "# Verifica si hay duplicados en la columna 'ORDERNUMBER'\n",
    "duplicados = data[data.duplicated(subset='ORDERNUMBER', keep=False)]\n",
    "\n",
    "# Muestra los duplicados\n",
    "print(\"Filas duplicadas en la columna 'ORDERNUMBER':\")\n",
    "print(duplicados)\n"
   ]
  },
  {
   "cell_type": "code",
   "execution_count": 24,
   "metadata": {},
   "outputs": [
    {
     "name": "stdout",
     "output_type": "stream",
     "text": [
      "Cantidad de valores duplicados en 'ORDERNUMBER': 2449\n"
     ]
    }
   ],
   "source": [
    "print(\"Cantidad de valores duplicados en 'ORDERNUMBER':\", data['ORDERNUMBER'].duplicated().sum())\n"
   ]
  }
 ],
 "metadata": {
  "kernelspec": {
   "display_name": "Python 3",
   "language": "python",
   "name": "python3"
  },
  "language_info": {
   "codemirror_mode": {
    "name": "ipython",
    "version": 3
   },
   "file_extension": ".py",
   "mimetype": "text/x-python",
   "name": "python",
   "nbconvert_exporter": "python",
   "pygments_lexer": "ipython3",
   "version": "3.12.6"
  }
 },
 "nbformat": 4,
 "nbformat_minor": 2
}
